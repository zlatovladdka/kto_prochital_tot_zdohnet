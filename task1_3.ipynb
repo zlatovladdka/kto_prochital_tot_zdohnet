{
 "cells": [
  {
   "cell_type": "code",
   "execution_count": 1,
   "metadata": {},
   "outputs": [],
   "source": [
    "import numpy as np"
   ]
  },
  {
   "cell_type": "code",
   "execution_count": 2,
   "metadata": {},
   "outputs": [],
   "source": [
    "def recur(n):\n",
    "    if n == 0:\n",
    "        return 1\n",
    "    if n == 1:\n",
    "        return -3\n",
    "    return -recur(n-1) + 6*recur(n-2)"
   ]
  },
  {
   "cell_type": "code",
   "execution_count": 5,
   "metadata": {},
   "outputs": [
    {
     "name": "stdout",
     "output_type": "stream",
     "text": [
      "1\n",
      "-3\n",
      "9\n",
      "-27\n",
      "81\n",
      "-243\n",
      "729\n",
      "-2187\n",
      "6561\n",
      "-19683\n"
     ]
    }
   ],
   "source": [
    "for i in range(10):\n",
    "    print(recur(i))"
   ]
  },
  {
   "cell_type": "markdown",
   "metadata": {},
   "source": [
    "заметим, что recur(n) == $(-3)^n$: $(-3)^n = -(-3)^{n-1} + 6\\cdot(-3)^{n-2} \\Rightarrow 6/9 + 1/3 = 1 == 1$, тогда:"
   ]
  },
  {
   "cell_type": "code",
   "execution_count": 6,
   "metadata": {},
   "outputs": [
    {
     "data": {
      "text/plain": [
       "6094450215462886010919940416159254127780495398343273822400801771940404638186197296791197565226726678937781620863297441239558499217634492330093866862512960199927792151337515405513496336097533368085315608842562937022842989249443889665488026163845297981733782426710440981541671342546819992931476270732407611257266864638291596946069546644928918529283838841114942775639171108733116510342689217842786426858890817486023525224913449449057091610680380444303515347686193560754457357577358311984589944305711672104447846457597497325597148746621694319977411609918054783537457754061394740543917588964751296073494373298939193652780227334988145003968276730589305786515481671932576229601073273732457845542705245754068836962651469188153170543381185267277860444863733610333666092998068734804981847751641065840161957814809001437004653380692726928539871118976964306949627015659054111021337754025550333370294349731458099300434065118554291718263099376809887558860852157968857126733224401"
      ]
     },
     "execution_count": 6,
     "metadata": {},
     "output_type": "execute_result"
    }
   ],
   "source": [
    "(-3)**2020"
   ]
  }
 ],
 "metadata": {
  "kernelspec": {
   "display_name": "Python 3",
   "language": "python",
   "name": "python3"
  },
  "language_info": {
   "codemirror_mode": {
    "name": "ipython",
    "version": 3
   },
   "file_extension": ".py",
   "mimetype": "text/x-python",
   "name": "python",
   "nbconvert_exporter": "python",
   "pygments_lexer": "ipython3",
   "version": "3.7.6"
  }
 },
 "nbformat": 4,
 "nbformat_minor": 4
}
