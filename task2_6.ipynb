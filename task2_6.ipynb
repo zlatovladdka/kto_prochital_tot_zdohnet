{
 "cells": [
  {
   "cell_type": "code",
   "execution_count": 22,
   "metadata": {},
   "outputs": [],
   "source": [
    "import numpy as np\n",
    "import datetime"
   ]
  },
  {
   "cell_type": "code",
   "execution_count": 14,
   "metadata": {},
   "outputs": [],
   "source": [
    "def woodbury(A, U, C, V):\n",
    "    Ainv = np.linalg.inv(A)\n",
    "    return Ainv - Ainv @ U @ np.linalg.inv(np.linalg.inv(C) + V @ Ainv @ U) @ V @ Ainv"
   ]
  },
  {
   "cell_type": "code",
   "execution_count": 15,
   "metadata": {},
   "outputs": [],
   "source": [
    "def woodbury_ainv(A, U, C, V, Ainv):\n",
    "    return Ainv - Ainv @ U @ np.linalg.inv(np.linalg.inv(C) + V @ Ainv @ U) @ V @ Ainv"
   ]
  },
  {
   "cell_type": "markdown",
   "metadata": {},
   "source": [
    "рассмотрим наш случай: A $-$ случайная квадратная диагональная матрица со стороной р = 5000, С $-$ единичная матрица со стороной k = 100"
   ]
  },
  {
   "cell_type": "code",
   "execution_count": 16,
   "metadata": {},
   "outputs": [],
   "source": [
    "p, k = 5000, 100\n",
    "a, c, v, u = np.diag(np.random.random(p)), np.eye(k), np.random.random((k, p)), np.random.random((p, k))"
   ]
  },
  {
   "cell_type": "code",
   "execution_count": 21,
   "metadata": {},
   "outputs": [
    {
     "name": "stdout",
     "output_type": "stream",
     "text": [
      "0:00:05.874427\n"
     ]
    }
   ],
   "source": [
    "then = datetime.datetime.now()\n",
    "woodbury(a, u, c, v)\n",
    "now = datetime.datetime.now()\n",
    "print(now-then)"
   ]
  },
  {
   "cell_type": "code",
   "execution_count": 23,
   "metadata": {},
   "outputs": [
    {
     "name": "stdout",
     "output_type": "stream",
     "text": [
      "0:00:02.361300\n"
     ]
    }
   ],
   "source": [
    "ainv = np.linalg.inv(a)\n",
    "then = datetime.datetime.now()\n",
    "woodbury_ainv(a, u, c, v, ainv)\n",
    "now = datetime.datetime.now()\n",
    "print(now-then)"
   ]
  },
  {
   "cell_type": "code",
   "execution_count": 25,
   "metadata": {},
   "outputs": [
    {
     "name": "stdout",
     "output_type": "stream",
     "text": [
      "0:00:03.620135\n"
     ]
    }
   ],
   "source": [
    "then = datetime.datetime.now()\n",
    "np.linalg.inv(a + u @ c @ v)\n",
    "now = datetime.datetime.now()\n",
    "print(now-then)"
   ]
  },
  {
   "cell_type": "markdown",
   "metadata": {},
   "source": [
    "сравнивая последние две ячейки, видим, что при данной обратной к А матрице, вычисления с использованием woodbury matrix identity производятся быстрее, чем прямые"
   ]
  }
 ],
 "metadata": {
  "kernelspec": {
   "display_name": "Python 3",
   "language": "python",
   "name": "python3"
  },
  "language_info": {
   "codemirror_mode": {
    "name": "ipython",
    "version": 3
   },
   "file_extension": ".py",
   "mimetype": "text/x-python",
   "name": "python",
   "nbconvert_exporter": "python",
   "pygments_lexer": "ipython3",
   "version": "3.7.6"
  }
 },
 "nbformat": 4,
 "nbformat_minor": 4
}
