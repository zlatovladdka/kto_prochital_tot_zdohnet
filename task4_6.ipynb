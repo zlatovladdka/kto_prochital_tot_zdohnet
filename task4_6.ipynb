{
 "cells": [
  {
   "cell_type": "code",
   "execution_count": 94,
   "metadata": {},
   "outputs": [],
   "source": [
    "import numpy as np\n",
    "import matplotlib.pyplot as plt"
   ]
  },
  {
   "cell_type": "markdown",
   "metadata": {},
   "source": [
    "#### случай $n = 10^2$"
   ]
  },
  {
   "cell_type": "code",
   "execution_count": 95,
   "metadata": {},
   "outputs": [],
   "source": [
    "n = 10**2\n",
    "diag = np.random.uniform(1,10,n)\n",
    "D = np.diag(diag)\n",
    "u = np.random.uniform(1,10,n)\n",
    "A = D + (u @ u.T) / (u.T @ u)"
   ]
  },
  {
   "cell_type": "code",
   "execution_count": 96,
   "metadata": {},
   "outputs": [
    {
     "name": "stdout",
     "output_type": "stream",
     "text": [
      "1.0763872315723115\n"
     ]
    }
   ],
   "source": [
    "eigvalA, eigvecA = np.linalg.eig(A)\n",
    "print(eigvalA.min())"
   ]
  },
  {
   "cell_type": "markdown",
   "metadata": {},
   "source": [
    "#### случай $n = 10^5$"
   ]
  },
  {
   "cell_type": "code",
   "execution_count": 97,
   "metadata": {},
   "outputs": [],
   "source": [
    "n = 10**5\n",
    "diag = np.random.uniform(2,40,n)\n",
    "u = np.random.uniform(2,40,n)"
   ]
  },
  {
   "cell_type": "markdown",
   "metadata": {},
   "source": [
    "#### найдём собственные значения:\n",
    "пусть $v - $ собственный вектор матрицы A, $\\lambda - $ её собственное значение\n",
    "\n",
    "тогда $(D + \\frac{uu^T}{u^Tu} - \\lambda E)v = 0$\n",
    "#### воспользуемся Bunch–Nielsen–Sorensen formula:\n",
    "$v_k = \\frac{u_k}{D_{kk} - \\lambda}$, \n",
    "#### подставим выражение для v:\n",
    "$(D + \\frac{uu^T}{u^Tu} - \\lambda E)_k\\frac{u_k}{D_{kk} - \\lambda} = 0 \\Rightarrow u_k + \\frac{u_k}{u^Tu}\\sum{\\frac{u_j^2}{D_{jj} - \\lambda}} = 0 \\Rightarrow u^Tu + \\sum{\\frac{u_j^2}{D_{jj} - \\lambda}} = 0 \\Rightarrow (u, u) = -(u, v) \\Rightarrow \\lambda = D_{ii} + 1$\n",
    "#### с помощью этого найдём все собственные вектора матрицы A"
   ]
  },
  {
   "cell_type": "code",
   "execution_count": 98,
   "metadata": {},
   "outputs": [],
   "source": [
    "eigvalA = np.zeros(n)\n",
    "for i in range(n):\n",
    "    eigvalA[i] = diag[i] + 1"
   ]
  },
  {
   "cell_type": "markdown",
   "metadata": {},
   "source": [
    "#### минимальное собственное значение:"
   ]
  },
  {
   "cell_type": "code",
   "execution_count": 99,
   "metadata": {},
   "outputs": [
    {
     "data": {
      "text/plain": [
       "3.0000649594438866"
      ]
     },
     "execution_count": 99,
     "metadata": {},
     "output_type": "execute_result"
    }
   ],
   "source": [
    "minVal = eigvalA.min()\n",
    "minVal"
   ]
  },
  {
   "cell_type": "markdown",
   "metadata": {},
   "source": [
    "#### соответствующий ему собственный вектор:"
   ]
  },
  {
   "cell_type": "code",
   "execution_count": 101,
   "metadata": {},
   "outputs": [
    {
     "data": {
      "text/plain": [
       "array([3.23353415e-06, 1.42565217e-04, 3.68716229e-06, ...,\n",
       "       1.94987887e-06, 9.56182948e-06, 8.82742989e-07])"
      ]
     },
     "execution_count": 101,
     "metadata": {},
     "output_type": "execute_result"
    }
   ],
   "source": [
    "q = np.zeros(n)\n",
    "for i in range(n):\n",
    "    comp = u[i]/(diag[i] - minVal)\n",
    "    q[i] = comp \n",
    "q = q / np.linalg.norm(q)\n",
    "q"
   ]
  }
 ],
 "metadata": {
  "kernelspec": {
   "display_name": "Python 3",
   "language": "python",
   "name": "python3"
  },
  "language_info": {
   "codemirror_mode": {
    "name": "ipython",
    "version": 3
   },
   "file_extension": ".py",
   "mimetype": "text/x-python",
   "name": "python",
   "nbconvert_exporter": "python",
   "pygments_lexer": "ipython3",
   "version": "3.7.6"
  }
 },
 "nbformat": 4,
 "nbformat_minor": 4
}
