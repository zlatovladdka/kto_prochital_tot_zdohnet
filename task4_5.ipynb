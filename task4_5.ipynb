{
 "cells": [
  {
   "cell_type": "code",
   "execution_count": 3,
   "metadata": {},
   "outputs": [],
   "source": [
    "import numpy as np\n",
    "import matplotlib.pyplot as plt\n",
    "from scipy.linalg import expm"
   ]
  },
  {
   "cell_type": "code",
   "execution_count": 5,
   "metadata": {},
   "outputs": [],
   "source": [
    "A = -np.eye(32) + np.diag(np.ones(31), k = -1) + np.diag(np.ones(30), k = -2)"
   ]
  },
  {
   "cell_type": "code",
   "execution_count": 6,
   "metadata": {},
   "outputs": [
    {
     "data": {
      "text/plain": [
       "array([-1., -1., -1., -1., -1., -1., -1., -1., -1., -1., -1., -1., -1.,\n",
       "       -1., -1., -1., -1., -1., -1., -1., -1., -1., -1., -1., -1., -1.,\n",
       "       -1., -1., -1., -1., -1., -1.])"
      ]
     },
     "execution_count": 6,
     "metadata": {},
     "output_type": "execute_result"
    }
   ],
   "source": [
    "np.linalg.eigvals(A)"
   ]
  },
  {
   "cell_type": "code",
   "execution_count": 10,
   "metadata": {},
   "outputs": [],
   "source": [
    "t = np.linspace(0, 50, 100)\n",
    "y = []\n",
    "for i in range(len(t)):\n",
    "    y.append(np.linalg.norm(expm(A*t[i])))"
   ]
  },
  {
   "cell_type": "code",
   "execution_count": 11,
   "metadata": {},
   "outputs": [
    {
     "data": {
      "text/plain": [
       "<matplotlib.collections.PathCollection at 0x2b6bf7e2888>"
      ]
     },
     "execution_count": 11,
     "metadata": {},
     "output_type": "execute_result"
    },
    {
     "data": {
      "image/png": "[encoded data removed]",
      "text/plain": [
       "<Figure size 432x288 with 1 Axes>"
      ]
     },
     "metadata": {
      "needs_background": "light"
     },
     "output_type": "display_data"
    }
   ],
   "source": [
    "plt.scatter(t, y)"
   ]
  },
  {
   "cell_type": "code",
   "execution_count": 14,
   "metadata": {},
   "outputs": [],
   "source": [
    "u, s, vh = np.linalg.svd(A)\n",
    "sigma = s[-1]"
   ]
  },
  {
   "cell_type": "markdown",
   "metadata": {},
   "source": [
    "# i = 1"
   ]
  },
  {
   "cell_type": "code",
   "execution_count": 49,
   "metadata": {},
   "outputs": [
    {
     "data": {
      "text/plain": [
       "(-2, 2)"
      ]
     },
     "execution_count": 49,
     "metadata": {},
     "output_type": "execute_result"
    },
    {
     "data": {
      "image/png": "[encoded data removed]",
      "text/plain": [
       "<Figure size 432x288 with 1 Axes>"
      ]
     },
     "metadata": {
      "needs_background": "light"
     },
     "output_type": "display_data"
    }
   ],
   "source": [
    "epsilon = 0.1\n",
    "x = np.linspace(-2.5, 1, 100)\n",
    "y = np.linspace(-2, 2, 100)\n",
    "real, imag = [], []\n",
    "for i in range(len(x)):\n",
    "    for j in range(len(y)):\n",
    "        z = x[i] + 1j*y[j]\n",
    "        B = z*np.eye(32) - A\n",
    "        u, s, vh = np.linalg.svd(B)\n",
    "        sigma = s[-1]\n",
    "        if sigma <= epsilon:\n",
    "            real.append(x[i])\n",
    "            imag.append(y[j])\n",
    "plt.scatter(real, imag)\n",
    "plt.xlim(-2.5,1)\n",
    "plt.ylim(-2,2)"
   ]
  },
  {
   "cell_type": "markdown",
   "metadata": {},
   "source": [
    "# i = 2"
   ]
  },
  {
   "cell_type": "code",
   "execution_count": 48,
   "metadata": {},
   "outputs": [
    {
     "data": {
      "text/plain": [
       "(-1.7, 1.7)"
      ]
     },
     "execution_count": 48,
     "metadata": {},
     "output_type": "execute_result"
    },
    {
     "data": {
      "image/png": "[encoded data removed]",
      "text/plain": [
       "<Figure size 432x288 with 1 Axes>"
      ]
     },
     "metadata": {
      "needs_background": "light"
     },
     "output_type": "display_data"
    }
   ],
   "source": [
    "epsilon = 0.01\n",
    "x = np.linspace(-2, 1, 100)\n",
    "y = np.linspace(-2, 2, 100)\n",
    "real, imag = [], []\n",
    "for i in range(len(x)):\n",
    "    for j in range(len(y)):\n",
    "        z = x[i] + 1j*y[j]\n",
    "        B = z*np.eye(32) - A\n",
    "        u, s, vh = np.linalg.svd(B)\n",
    "        sigma = s[-1]\n",
    "        if sigma <= epsilon:\n",
    "            real.append(x[i])\n",
    "            imag.append(y[j])\n",
    "plt.scatter(real, imag)\n",
    "plt.xlim(-2,1)\n",
    "plt.ylim(-1.7,1.7)"
   ]
  },
  {
   "cell_type": "markdown",
   "metadata": {},
   "source": [
    "# i = 3"
   ]
  },
  {
   "cell_type": "code",
   "execution_count": 50,
   "metadata": {},
   "outputs": [
    {
     "data": {
      "text/plain": [
       "(-1.5, 1.5)"
      ]
     },
     "execution_count": 50,
     "metadata": {},
     "output_type": "execute_result"
    },
    {
     "data": {
      "image/png": "[encoded data removed]",
      "text/plain": [
       "<Figure size 432x288 with 1 Axes>"
      ]
     },
     "metadata": {
      "needs_background": "light"
     },
     "output_type": "display_data"
    }
   ],
   "source": [
    "epsilon = 0.001\n",
    "x = np.linspace(-2, 1, 100)\n",
    "y = np.linspace(-1.5, 1.5, 100)\n",
    "real, imag = [], []\n",
    "for i in range(len(x)):\n",
    "    for j in range(len(y)):\n",
    "        z = x[i] + 1j*y[j]\n",
    "        B = z*np.eye(32) - A\n",
    "        u, s, vh = np.linalg.svd(B)\n",
    "        sigma = s[-1]\n",
    "        if sigma <= epsilon:\n",
    "            real.append(x[i])\n",
    "            imag.append(y[j])\n",
    "plt.scatter(real, imag)\n",
    "plt.xlim(-2,1)\n",
    "plt.ylim(-1.5,1.5)"
   ]
  },
  {
   "cell_type": "markdown",
   "metadata": {},
   "source": [
    "# i = 4"
   ]
  },
  {
   "cell_type": "code",
   "execution_count": 46,
   "metadata": {},
   "outputs": [
    {
     "data": {
      "text/plain": [
       "(-1.5, 1.5)"
      ]
     },
     "execution_count": 46,
     "metadata": {},
     "output_type": "execute_result"
    },
    {
     "data": {
      "image/png": "[encoded data removed]",
      "text/plain": [
       "<Figure size 432x288 with 1 Axes>"
      ]
     },
     "metadata": {
      "needs_background": "light"
     },
     "output_type": "display_data"
    }
   ],
   "source": [
    "epsilon = 0.0001\n",
    "x = np.linspace(-2, 0.5, 100)\n",
    "y = np.linspace(-1.5, 1.5, 100)\n",
    "real, imag = [], []\n",
    "for i in range(len(x)):\n",
    "    for j in range(len(y)):\n",
    "        z = x[i] + 1j*y[j]\n",
    "        B = z*np.eye(32) - A\n",
    "        u, s, vh = np.linalg.svd(B)\n",
    "        sigma = s[-1]\n",
    "        if sigma <= epsilon:\n",
    "            real.append(x[i])\n",
    "            imag.append(y[j])\n",
    "plt.scatter(real, imag)\n",
    "plt.xlim(-2,0.5)\n",
    "plt.ylim(-1.5,1.5)"
   ]
  },
  {
   "cell_type": "markdown",
   "metadata": {},
   "source": [
    "# i = 5"
   ]
  },
  {
   "cell_type": "code",
   "execution_count": 43,
   "metadata": {},
   "outputs": [
    {
     "data": {
      "text/plain": [
       "(-1.5, 1.5)"
      ]
     },
     "execution_count": 43,
     "metadata": {},
     "output_type": "execute_result"
    },
    {
     "data": {
      "image/png": "[encoded data removed]",
      "text/plain": [
       "<Figure size 432x288 with 1 Axes>"
      ]
     },
     "metadata": {
      "needs_background": "light"
     },
     "output_type": "display_data"
    }
   ],
   "source": [
    "epsilon = 0.00001\n",
    "x = np.linspace(-2, 0.5, 100)\n",
    "y = np.linspace(-1.5, 1.5, 100)\n",
    "real, imag = [], []\n",
    "for i in range(len(x)):\n",
    "    for j in range(len(y)):\n",
    "        z = x[i] + 1j*y[j]\n",
    "        B = z*np.eye(32) - A\n",
    "        u, s, vh = np.linalg.svd(B)\n",
    "        sigma = s[-1]\n",
    "        if sigma <= epsilon:\n",
    "            real.append(x[i])\n",
    "            imag.append(y[j])\n",
    "plt.scatter(real, imag)\n",
    "plt.xlim(-2,0.5)\n",
    "plt.ylim(-1.5,1.5)"
   ]
  }
 ],
 "metadata": {
  "kernelspec": {
   "display_name": "Python 3",
   "language": "python",
   "name": "python3"
  },
  "language_info": {
   "codemirror_mode": {
    "name": "ipython",
    "version": 3
   },
   "file_extension": ".py",
   "mimetype": "text/x-python",
   "name": "python",
   "nbconvert_exporter": "python",
   "pygments_lexer": "ipython3",
   "version": "3.7.6"
  }
 },
 "nbformat": 4,
 "nbformat_minor": 4
}
