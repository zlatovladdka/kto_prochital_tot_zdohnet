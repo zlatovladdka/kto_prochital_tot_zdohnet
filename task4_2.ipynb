{
 "cells": [
  {
   "cell_type": "code",
   "execution_count": 27,
   "metadata": {},
   "outputs": [],
   "source": [
    "import numpy as np"
   ]
  },
  {
   "cell_type": "code",
   "execution_count": 28,
   "metadata": {},
   "outputs": [],
   "source": [
    "n = 10\n",
    "a = np.random.normal(0, 1, (n, n))\n",
    "A = a @ a.T"
   ]
  },
  {
   "cell_type": "code",
   "execution_count": 29,
   "metadata": {},
   "outputs": [
    {
     "data": {
      "text/plain": [
       "array([1.77983626e-02, 5.29215645e-01, 1.82870627e+00, 2.31175417e+00,\n",
       "       2.54698892e+00, 4.16581521e+00, 1.19769716e+01, 1.77730224e+01,\n",
       "       2.69883483e+01, 3.82921715e+01])"
      ]
     },
     "execution_count": 29,
     "metadata": {},
     "output_type": "execute_result"
    }
   ],
   "source": [
    "eig = np.linalg.eigvalsh(A)\n",
    "eig"
   ]
  },
  {
   "cell_type": "code",
   "execution_count": 30,
   "metadata": {},
   "outputs": [
    {
     "name": "stdout",
     "output_type": "stream",
     "text": [
      "Минимальное собственое значение: 0.017798376063624947\n",
      "Число итераций для его приближения с точность в 1 процент: 2\n"
     ]
    }
   ],
   "source": [
    "B = A\n",
    "count = 0\n",
    "while B[9,9]/eig[0] > 1.01 or B[9,9]/eig[0] < 0.99:\n",
    "    q, r = np.linalg.qr(B)\n",
    "    B = r @ q\n",
    "    count += 1\n",
    "print('Минимальное собственое значение: {}'.format(B[9,9]))\n",
    "print('Число итераций для его приближения с точность в 1 процент: {}'.format(count))"
   ]
  }
 ],
 "metadata": {
  "kernelspec": {
   "display_name": "Python 3",
   "language": "python",
   "name": "python3"
  },
  "language_info": {
   "codemirror_mode": {
    "name": "ipython",
    "version": 3
   },
   "file_extension": ".py",
   "mimetype": "text/x-python",
   "name": "python",
   "nbconvert_exporter": "python",
   "pygments_lexer": "ipython3",
   "version": "3.7.6"
  }
 },
 "nbformat": 4,
 "nbformat_minor": 4
}
