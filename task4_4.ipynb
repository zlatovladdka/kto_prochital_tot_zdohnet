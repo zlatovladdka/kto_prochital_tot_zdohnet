{
 "cells": [
  {
   "cell_type": "code",
   "execution_count": 19,
   "metadata": {},
   "outputs": [],
   "source": [
    "import numpy as np\n",
    "import matplotlib.pyplot as plt"
   ]
  },
  {
   "cell_type": "code",
   "execution_count": 2,
   "metadata": {},
   "outputs": [],
   "source": [
    "A = np.array([[3,1,0,0], [1,2,0,1], [0,0,1,1], [0,1,1,1]])"
   ]
  },
  {
   "cell_type": "markdown",
   "metadata": {},
   "source": [
    "#### найдём точные собственные значения и векторы для нашей матрицы"
   ]
  },
  {
   "cell_type": "code",
   "execution_count": 5,
   "metadata": {},
   "outputs": [
    {
     "name": "stdout",
     "output_type": "stream",
     "text": [
      "[ 3.75080042 -0.28399787  1.21473855  2.3184589 ]\n",
      "[[-0.77250966  0.11203111 -0.35688275  0.51313991]\n",
      " [-0.58000058 -0.36790993  0.63712901 -0.34972594]\n",
      " [-0.08832178 -0.56719284 -0.66792899 -0.4736691 ]\n",
      " [-0.2429556   0.7282744  -0.1434301  -0.62451324]]\n"
     ]
    }
   ],
   "source": [
    "eigvalA, eigvecA = np.linalg.eig(A)\n",
    "print(eigvalA, eigvecA, sep='\\n')"
   ]
  },
  {
   "cell_type": "markdown",
   "metadata": {},
   "source": [
    "#### метод степенной итерации"
   ]
  },
  {
   "cell_type": "code",
   "execution_count": 163,
   "metadata": {},
   "outputs": [],
   "source": [
    "N = 15\n",
    "randomVec = np.random.random(4)\n",
    "iterVec = np.zeros((N, 4))\n",
    "iterVec[0] = randomVec/np.linalg.norm(randomVec)\n",
    "iterVal = np.zeros(N)\n",
    "iterVal[0] = (iterVec[0].T @ A @ iterVec[0]) / (iterVec[0].T @ iterVec[0])"
   ]
  },
  {
   "cell_type": "code",
   "execution_count": 164,
   "metadata": {},
   "outputs": [
    {
     "name": "stdout",
     "output_type": "stream",
     "text": [
      "Собственный вектор приближается с точностью до тысячной (по норме) на 10 шаге\n"
     ]
    }
   ],
   "source": [
    "k,flag = 0, 0\n",
    "for i in range(1, N):\n",
    "    vec = A @ iterVec[i-1]\n",
    "    iterVec[i] = vec / np.linalg.norm(vec)\n",
    "    iterVal[i] = (iterVec[i].T @ A @ iterVec[i]) / (iterVec[i].T @ iterVec[i])\n",
    "    k += 1\n",
    "    if np.linalg.norm(iterVec[i] - eigvecA.T[0]) < 10**(-2) or np.linalg.norm(iterVec[i] + eigvecA.T[0]) < 10**(-2) and flag == 0:\n",
    "        print('Собственный вектор приближается с точностью до тысячной (по норме) на {} шаге'.format(k))\n",
    "        flag += 1"
   ]
  },
  {
   "cell_type": "code",
   "execution_count": 54,
   "metadata": {},
   "outputs": [
    {
     "data": {
      "text/plain": [
       "[<matplotlib.lines.Line2D at 0x1d97fe760c8>]"
      ]
     },
     "execution_count": 54,
     "metadata": {},
     "output_type": "execute_result"
    },
    {
     "data": {
      "image/png": "[encoded data removed]",
      "text/plain": [
       "<Figure size 432x288 with 1 Axes>"
      ]
     },
     "metadata": {
      "needs_background": "light"
     },
     "output_type": "display_data"
    }
   ],
   "source": [
    "plt.scatter(np.arange(len(iterVal)), iterVal)\n",
    "plt.plot(np.arange(len(iterVal)), [np.max(eigvalA)] * len(iterVal))"
   ]
  },
  {
   "cell_type": "markdown",
   "metadata": {},
   "source": [
    "#### обратная итерация с $\\mu$ = 3.5 (тот же случайный начальный вектор)"
   ]
  },
  {
   "cell_type": "code",
   "execution_count": 157,
   "metadata": {},
   "outputs": [],
   "source": [
    "N = 10\n",
    "mu = 3.5\n",
    "revIterVec = np.zeros((N, 4))\n",
    "revIterVec[0] = randomVec/np.linalg.norm(randomVec)\n",
    "revIterVal = np.zeros(N)\n",
    "revIterVal[0] = (revIterVec[0].T @ A @ revIterVec[0]) / (revIterVec[0].T @ revIterVec[0])\n",
    "M = np.array([mu]*4)\n",
    "D = np.linalg.inv(A - np.diag(M))"
   ]
  },
  {
   "cell_type": "code",
   "execution_count": 158,
   "metadata": {},
   "outputs": [
    {
     "name": "stdout",
     "output_type": "stream",
     "text": [
      "Собственный вектор приближается с точностью до тысячной (по норме) на 5 шаге\n"
     ]
    }
   ],
   "source": [
    "k,flag = 0, 0\n",
    "approxVec = eigvecA.T[np.abs(eigvalA - M).argmin()]\n",
    "for i in range(1, N):\n",
    "    vec = D @ revIterVec[i-1]\n",
    "    revIterVec[i] = vec / np.linalg.norm(vec)\n",
    "    revIterVal[i] = (revIterVec[i].T @ A @ revIterVec[i]) / (revIterVec[i].T @ revIterVec[i])\n",
    "    k += 1\n",
    "    if np.linalg.norm(revIterVec[i] - approxVec) < 10**(-2) or np.linalg.norm(revIterVec[i] + approxVec) < 10**(-3) and flag==0:\n",
    "            print('Собственный вектор приближается с точностью до тысячной (по норме) на {} шаге'.format(k))\n",
    "            flag = 1"
   ]
  },
  {
   "cell_type": "code",
   "execution_count": 159,
   "metadata": {},
   "outputs": [
    {
     "data": {
      "text/plain": [
       "[<matplotlib.lines.Line2D at 0x1d9010daa48>]"
      ]
     },
     "execution_count": 159,
     "metadata": {},
     "output_type": "execute_result"
    },
    {
     "data": {
      "image/png": "[encoded data removed]",
      "text/plain": [
       "<Figure size 432x288 with 1 Axes>"
      ]
     },
     "metadata": {
      "needs_background": "light"
     },
     "output_type": "display_data"
    }
   ],
   "source": [
    "plt.scatter(np.arange(len(revIterVal)), revIterVal)\n",
    "plt.plot(np.arange(len(revIterVal)), [eigvalA[(np.abs(eigvalA - M)).argmin()]] * len(revIterVal))"
   ]
  },
  {
   "cell_type": "markdown",
   "metadata": {},
   "source": [
    "#### обратная итерация с $\\mu$ = 3.7 (тот же случайный начальный вектор)"
   ]
  },
  {
   "cell_type": "code",
   "execution_count": 160,
   "metadata": {},
   "outputs": [],
   "source": [
    "N = 10\n",
    "mu = 3.7\n",
    "revIterVec = np.zeros((N, 4))\n",
    "revIterVec[0] = randomVec/np.linalg.norm(randomVec)\n",
    "revIterVal = np.zeros(N)\n",
    "revIterVal[0] = (revIterVec[0].T @ A @ revIterVec[0]) / (revIterVec[0].T @ revIterVec[0])\n",
    "M = np.array([mu]*4)\n",
    "D = np.linalg.inv(A - np.diag(M))"
   ]
  },
  {
   "cell_type": "code",
   "execution_count": 161,
   "metadata": {},
   "outputs": [
    {
     "name": "stdout",
     "output_type": "stream",
     "text": [
      "Собственный вектор приближается с точностью до тысячной (по норме) на 3 шаге\n"
     ]
    }
   ],
   "source": [
    "k,flag = 0, 0\n",
    "approxVec = eigvecA.T[np.abs(eigvalA - M).argmin()]\n",
    "for i in range(1, N):\n",
    "    vec = D @ revIterVec[i-1]\n",
    "    revIterVec[i] = vec / np.linalg.norm(vec)\n",
    "    revIterVal[i] = (revIterVec[i].T @ A @ revIterVec[i]) / (revIterVec[i].T @ revIterVec[i])\n",
    "    k += 1\n",
    "    if np.linalg.norm(revIterVec[i] - approxVec) < 10**(-2) or np.linalg.norm(revIterVec[i] + approxVec) < 10**(-3) and flag==0:\n",
    "            print('Собственный вектор приближается с точностью до тысячной (по норме) на {} шаге'.format(k))\n",
    "            flag = 1"
   ]
  },
  {
   "cell_type": "code",
   "execution_count": 162,
   "metadata": {},
   "outputs": [
    {
     "data": {
      "text/plain": [
       "[<matplotlib.lines.Line2D at 0x1d901139d88>]"
      ]
     },
     "execution_count": 162,
     "metadata": {},
     "output_type": "execute_result"
    },
    {
     "data": {
      "image/png": "[encoded data removed]",
      "text/plain": [
       "<Figure size 432x288 with 1 Axes>"
      ]
     },
     "metadata": {
      "needs_background": "light"
     },
     "output_type": "display_data"
    }
   ],
   "source": [
    "plt.scatter(np.arange(len(revIterVal)), revIterVal)\n",
    "plt.plot(np.arange(len(revIterVal)), [eigvalA[(np.abs(eigvalA - M)).argmin()]] * len(revIterVal))"
   ]
  }
 ],
 "metadata": {
  "kernelspec": {
   "display_name": "Python 3",
   "language": "python",
   "name": "python3"
  },
  "language_info": {
   "codemirror_mode": {
    "name": "ipython",
    "version": 3
   },
   "file_extension": ".py",
   "mimetype": "text/x-python",
   "name": "python",
   "nbconvert_exporter": "python",
   "pygments_lexer": "ipython3",
   "version": "3.7.6"
  }
 },
 "nbformat": 4,
 "nbformat_minor": 4
}
