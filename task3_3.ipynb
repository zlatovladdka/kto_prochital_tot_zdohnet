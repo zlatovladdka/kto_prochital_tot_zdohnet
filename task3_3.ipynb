{
 "cells": [
  {
   "cell_type": "code",
   "execution_count": 1,
   "metadata": {},
   "outputs": [],
   "source": [
    "import numpy as np\n",
    "import matplotlib.pyplot as plt"
   ]
  },
  {
   "cell_type": "code",
   "execution_count": 2,
   "metadata": {},
   "outputs": [],
   "source": [
    "a = np.zeros((15,28))\n",
    "a[2:-2,1] = 1; a[2,2:6] = 1\n",
    "a[2:7,6] = 1; a[7:-2, 7] = 1\n",
    "a[7, 2:7] = 1; a[-3, 2:7] = 1\n",
    "a[2:-2, 10] = 1; a[2:-2, 14] = 1\n",
    "a[2:-2, 18] = 1; a[-3, 10:19] = 1\n",
    "a[2:-2, 26] = 1; a[2, 21:26] = 1\n",
    "a[7, 21:26] = 1; a[12, 21:26] = 1"
   ]
  },
  {
   "cell_type": "code",
   "execution_count": 3,
   "metadata": {},
   "outputs": [
    {
     "data": {
      "text/plain": [
       "<matplotlib.image.AxesImage at 0x26651194f08>"
      ]
     },
     "execution_count": 3,
     "metadata": {},
     "output_type": "execute_result"
    },
    {
     "data": {
      "image/png": "[encoded data removed]",
      "text/plain": [
       "<Figure size 432x288 with 1 Axes>"
      ]
     },
     "metadata": {
      "needs_background": "light"
     },
     "output_type": "display_data"
    }
   ],
   "source": [
    "plt.imshow(a, cmap='viridis')"
   ]
  },
  {
   "cell_type": "code",
   "execution_count": 4,
   "metadata": {},
   "outputs": [],
   "source": [
    "u, s, vh = np.linalg.svd(a)"
   ]
  },
  {
   "cell_type": "code",
   "execution_count": 5,
   "metadata": {},
   "outputs": [
    {
     "data": {
      "text/plain": [
       "array([[ 0.00000000e+00,  0.00000000e+00,  0.00000000e+00,\n",
       "         0.00000000e+00,  0.00000000e+00,  0.00000000e+00,\n",
       "         0.00000000e+00, -0.00000000e+00,  0.00000000e+00,\n",
       "         0.00000000e+00,  0.00000000e+00,  0.00000000e+00,\n",
       "         0.00000000e+00,  0.00000000e+00,  1.00000000e+00],\n",
       "       [-1.11022302e-16,  0.00000000e+00, -1.38777878e-16,\n",
       "         2.77555756e-17, -8.08381140e-16,  2.24927106e-01,\n",
       "        -9.50968131e-01, -1.46866716e-01, -8.50663157e-02,\n",
       "         1.27519806e-01,  1.38777878e-16,  1.54050616e-19,\n",
       "         0.00000000e+00,  0.00000000e+00,  0.00000000e+00],\n",
       "       [-3.95111853e-01, -3.40763991e-01, -4.23573807e-01,\n",
       "        -2.92707426e-01,  6.80201528e-01,  7.82554339e-17,\n",
       "        -3.48337025e-16, -2.40665392e-16, -1.96902932e-16,\n",
       "         5.50354740e-16,  3.93931954e-18,  4.64480083e-20,\n",
       "         0.00000000e+00,  0.00000000e+00,  0.00000000e+00],\n",
       "       [-2.42582981e-01,  2.46102457e-01, -2.65861853e-01,\n",
       "         2.29779654e-01, -8.42962852e-02, -8.37974974e-01,\n",
       "        -2.06635070e-01, -1.54614689e-02,  2.16051207e-02,\n",
       "        -6.62876507e-02, -4.35541099e-17, -5.33810371e-18,\n",
       "         0.00000000e+00,  0.00000000e+00,  0.00000000e+00],\n",
       "       [-2.42582981e-01,  2.46102457e-01, -2.65861853e-01,\n",
       "         2.29779654e-01, -8.42962852e-02,  3.69001831e-01,\n",
       "        -2.10760093e-02, -5.07748283e-02,  1.48811712e-01,\n",
       "        -7.67248618e-01, -5.94184040e-16, -1.09033777e-16,\n",
       "         0.00000000e+00,  0.00000000e+00,  0.00000000e+00],\n",
       "       [-2.42582981e-01,  2.46102457e-01, -2.65861853e-01,\n",
       "         2.29779654e-01, -8.42962852e-02,  2.22818351e-01,\n",
       "         1.25762741e-01,  1.99179268e-01, -7.56404626e-01,\n",
       "         2.69657889e-01,  1.95988035e-16,  3.20429062e-17,\n",
       "         0.00000000e+00,  0.00000000e+00,  0.00000000e+00],\n",
       "       [-2.42582981e-01,  2.46102457e-01, -2.65861853e-01,\n",
       "         2.29779654e-01, -8.42962852e-02,  2.46154792e-01,\n",
       "         1.01948339e-01, -1.32942971e-01,  5.85987793e-01,\n",
       "         5.63878380e-01,  4.50024310e-16,  8.49539410e-17,\n",
       "         0.00000000e+00,  0.00000000e+00,  0.00000000e+00],\n",
       "       [-4.19435639e-01, -3.25811132e-01, -1.17283550e-01,\n",
       "        -4.81640621e-01, -6.87159175e-01,  7.82554339e-17,\n",
       "         5.39841394e-16,  2.45057181e-16,  1.50041764e-16,\n",
       "        -4.55784876e-16,  7.04964443e-18, -3.99658651e-19,\n",
       "         0.00000000e+00,  0.00000000e+00,  0.00000000e+00],\n",
       "       [-2.37015252e-01,  2.70855189e-01,  2.80661929e-01,\n",
       "        -1.80725353e-01,  9.50182351e-02, -2.45436868e-02,\n",
       "         1.40466098e-01, -8.29879576e-01, -2.02402502e-01,\n",
       "         1.61776681e-16,  1.19271306e-16, -7.71866895e-17,\n",
       "         0.00000000e+00,  0.00000000e+00,  0.00000000e+00],\n",
       "       [-2.37015252e-01,  2.70855189e-01,  2.80661929e-01,\n",
       "        -1.80725353e-01,  9.50182351e-02,  8.18122894e-03,\n",
       "        -4.68220327e-02,  2.76626525e-01,  6.74675006e-02,\n",
       "        -4.14151513e-16,  8.16496581e-01, -1.08272705e-16,\n",
       "         0.00000000e+00,  0.00000000e+00,  0.00000000e+00],\n",
       "       [-2.37015252e-01,  2.70855189e-01,  2.80661929e-01,\n",
       "        -1.80725353e-01,  9.50182351e-02,  8.18122894e-03,\n",
       "        -4.68220327e-02,  2.76626525e-01,  6.74675006e-02,\n",
       "         1.40960000e-16, -4.08248290e-01, -7.07106781e-01,\n",
       "         0.00000000e+00,  0.00000000e+00,  0.00000000e+00],\n",
       "       [-2.37015252e-01,  2.70855189e-01,  2.80661929e-01,\n",
       "        -1.80725353e-01,  9.50182351e-02,  8.18122894e-03,\n",
       "        -4.68220327e-02,  2.76626525e-01,  6.74675006e-02,\n",
       "         3.07493453e-16, -4.08248290e-01,  7.07106781e-01,\n",
       "         0.00000000e+00,  0.00000000e+00,  0.00000000e+00],\n",
       "       [-4.55927009e-01, -4.91946337e-01,  4.57181831e-01,\n",
       "         5.83526609e-01,  2.45119379e-02, -3.27668686e-17,\n",
       "         9.57521845e-17,  1.60736821e-17,  6.67750368e-17,\n",
       "        -4.63901357e-17, -3.78303994e-18, -1.39929131e-17,\n",
       "         0.00000000e+00,  0.00000000e+00,  0.00000000e+00],\n",
       "       [ 0.00000000e+00,  0.00000000e+00,  0.00000000e+00,\n",
       "         0.00000000e+00,  0.00000000e+00,  0.00000000e+00,\n",
       "         0.00000000e+00,  0.00000000e+00,  0.00000000e+00,\n",
       "         0.00000000e+00,  0.00000000e+00,  0.00000000e+00,\n",
       "         0.00000000e+00,  1.00000000e+00,  0.00000000e+00],\n",
       "       [ 0.00000000e+00,  0.00000000e+00,  0.00000000e+00,\n",
       "         0.00000000e+00,  0.00000000e+00,  0.00000000e+00,\n",
       "         0.00000000e+00,  0.00000000e+00,  0.00000000e+00,\n",
       "         0.00000000e+00,  0.00000000e+00,  0.00000000e+00,\n",
       "         1.00000000e+00,  0.00000000e+00,  0.00000000e+00]])"
      ]
     },
     "execution_count": 5,
     "metadata": {},
     "output_type": "execute_result"
    }
   ],
   "source": [
    "u"
   ]
  },
  {
   "cell_type": "code",
   "execution_count": 6,
   "metadata": {},
   "outputs": [
    {
     "data": {
      "text/plain": [
       "array([8.65821175e+00, 4.21505898e+00, 2.18518482e+00, 1.81299689e+00,\n",
       "       4.54595131e-01, 5.17354735e-16, 1.68613196e-16, 7.54198650e-17,\n",
       "       4.25580470e-17, 5.33465259e-31, 1.87917404e-33, 9.21581355e-49,\n",
       "       0.00000000e+00, 0.00000000e+00, 0.00000000e+00])"
      ]
     },
     "execution_count": 6,
     "metadata": {},
     "output_type": "execute_result"
    }
   ],
   "source": [
    "s"
   ]
  },
  {
   "cell_type": "code",
   "execution_count": 7,
   "metadata": {},
   "outputs": [
    {
     "data": {
      "text/plain": [
       "array([[ 0.00000000e+00, -3.68305550e-01, -1.46736363e-01,\n",
       "        -1.46736363e-01, -1.46736363e-01, -1.46736363e-01,\n",
       "        -2.58807072e-01, -2.10600492e-01, -6.72015960e-18,\n",
       "         6.96080342e-19, -3.68305550e-01, -5.26583343e-02,\n",
       "        -5.26583343e-02, -5.26583343e-02, -3.68305550e-01,\n",
       "        -5.26583343e-02, -5.26583343e-02, -5.26583343e-02,\n",
       "        -3.68305550e-01,  0.00000000e+00,  0.00000000e+00,\n",
       "        -1.46736363e-01, -1.46736363e-01, -1.46736363e-01,\n",
       "        -1.46736363e-01, -1.46736363e-01, -3.68305550e-01,\n",
       "         0.00000000e+00],\n",
       "       [ 0.00000000e+00,  2.15728683e-01, -2.74852966e-01,\n",
       "        -2.74852966e-01, -2.74852966e-01, -2.74852966e-01,\n",
       "        -4.13070457e-02,  6.30271814e-02,  1.62840485e-17,\n",
       "         1.54278826e-18,  2.15728683e-01, -1.16711614e-01,\n",
       "        -1.16711614e-01, -1.16711614e-01,  2.15728683e-01,\n",
       "        -1.16711614e-01, -1.16711614e-01, -1.16711614e-01,\n",
       "         2.15728683e-01,  0.00000000e+00,  0.00000000e+00,\n",
       "        -2.74852966e-01, -2.74852966e-01, -2.74852966e-01,\n",
       "        -2.74852966e-01, -2.74852966e-01,  2.15728683e-01,\n",
       "         0.00000000e+00],\n",
       "       [ 0.00000000e+00, -1.12005267e-02, -3.82921967e-02,\n",
       "        -3.82921967e-02, -3.82921967e-02, -3.82921967e-02,\n",
       "        -5.24954652e-01,  6.69300821e-01,  3.16104018e-17,\n",
       "        -2.76562338e-18, -1.12005267e-02,  2.09218839e-01,\n",
       "         2.09218839e-01,  2.09218839e-01, -1.12005267e-02,\n",
       "         2.09218839e-01,  2.09218839e-01,  2.09218839e-01,\n",
       "        -1.12005267e-02,  0.00000000e+00,  0.00000000e+00,\n",
       "        -3.82921967e-02, -3.82921967e-02, -3.82921967e-02,\n",
       "        -3.82921967e-02, -3.82921967e-02, -1.12005267e-02,\n",
       "         0.00000000e+00],\n",
       "       [ 0.00000000e+00,  2.97615845e-03, -1.05251939e-01,\n",
       "        -1.05251939e-01, -1.05251939e-01, -1.05251939e-01,\n",
       "         4.01709007e-01, -3.42535296e-01, -2.55593692e-17,\n",
       "        -4.25457180e-18,  2.97615845e-03,  3.21857479e-01,\n",
       "         3.21857479e-01,  3.21857479e-01,  2.97615845e-03,\n",
       "         3.21857479e-01,  3.21857479e-01,  3.21857479e-01,\n",
       "         2.97615845e-03,  0.00000000e+00,  0.00000000e+00,\n",
       "        -1.05251939e-01, -1.05251939e-01, -1.05251939e-01,\n",
       "        -1.05251939e-01, -1.05251939e-01,  2.97615845e-03,\n",
       "         0.00000000e+00],\n",
       "       [ 0.00000000e+00,  1.32958069e-01,  3.86152204e-02,\n",
       "         3.86152204e-02,  3.86152204e-02,  3.86152204e-02,\n",
       "        -7.03111026e-01, -6.21595518e-01,  5.20490570e-17,\n",
       "        -7.12762954e-19,  1.32958069e-01,  5.39203705e-02,\n",
       "         5.39203705e-02,  5.39203705e-02,  1.32958069e-01,\n",
       "         5.39203705e-02,  5.39203705e-02,  5.39203705e-02,\n",
       "         1.32958069e-01,  0.00000000e+00,  0.00000000e+00,\n",
       "         3.86152204e-02,  3.86152204e-02,  3.86152204e-02,\n",
       "         3.86152204e-02,  3.86152204e-02,  1.32958069e-01,\n",
       "         0.00000000e+00],\n",
       "       [ 0.00000000e+00, -5.14499845e-01,  3.32530254e-01,\n",
       "        -7.31610835e-01,  7.79980391e-02,  5.35539209e-02,\n",
       "        -9.67704343e-16,  1.02717239e-16,  3.94650860e-03,\n",
       "        -7.17186364e-20,  1.28624961e-01,  4.31830831e-18,\n",
       "         4.31830831e-18,  4.31830831e-18,  1.28624961e-01,\n",
       "         4.31830831e-18,  4.31830831e-18,  4.31830831e-18,\n",
       "         1.28624961e-01,  0.00000000e+00,  0.00000000e+00,\n",
       "         5.35057242e-02,  5.35057242e-02,  5.35057242e-02,\n",
       "         5.35057242e-02,  5.35057242e-02,  1.28624961e-01,\n",
       "         0.00000000e+00],\n",
       "       [ 0.00000000e+00,  7.11902953e-01,  1.59285958e-01,\n",
       "        -5.18923365e-01,  2.55391425e-01,  1.66690464e-02,\n",
       "        -2.47309671e-16,  1.04379043e-16, -6.93013412e-02,\n",
       "         1.25939107e-18, -1.77975738e-01, -1.23500111e-17,\n",
       "        -1.23500111e-17, -1.23500111e-17, -1.77975738e-01,\n",
       "        -1.23500111e-17, -1.23500111e-17, -1.23500111e-17,\n",
       "        -1.77975738e-01,  0.00000000e+00,  0.00000000e+00,\n",
       "         1.75153872e-02,  1.75153872e-02,  1.75153872e-02,\n",
       "         1.75153872e-02,  1.75153872e-02, -1.77975738e-01,\n",
       "         0.00000000e+00],\n",
       "       [ 0.00000000e+00, -1.64820050e-02, -1.11024395e-01,\n",
       "        -9.73885478e-03,  3.72423407e-01, -3.26277044e-02,\n",
       "         2.22894800e-16, -3.36933651e-17,  9.15358052e-01,\n",
       "        -1.66345086e-17,  4.12050125e-03, -2.47372814e-18,\n",
       "        -2.47372814e-18, -2.47372814e-18,  4.12050125e-03,\n",
       "        -2.47372814e-18, -2.47372814e-18, -2.47372814e-18,\n",
       "         4.12050125e-03,  0.00000000e+00,  0.00000000e+00,\n",
       "        -4.38064905e-02, -4.38064905e-02, -4.38064905e-02,\n",
       "        -4.38064905e-02, -4.38064905e-02,  4.12050125e-03,\n",
       "         0.00000000e+00],\n",
       "       [ 0.00000000e+00,  1.67965588e-01,  3.32572380e-01,\n",
       "        -4.25747966e-02, -8.06984617e-01,  9.01909180e-02,\n",
       "         1.23115912e-16,  9.83552117e-17,  3.95636060e-01,\n",
       "        -7.18976736e-18, -4.19913971e-02,  3.53830972e-17,\n",
       "         3.53830972e-17,  3.53830972e-17, -4.19913971e-02,\n",
       "         3.53830972e-17,  3.53830972e-17,  3.53830972e-17,\n",
       "        -4.19913971e-02,  0.00000000e+00,  0.00000000e+00,\n",
       "         8.53592231e-02,  8.53592231e-02,  8.53592231e-02,\n",
       "         8.53592231e-02,  8.53592231e-02, -4.19913971e-02,\n",
       "         0.00000000e+00],\n",
       "       [ 0.00000000e+00, -1.65945592e-15, -3.18149428e-01,\n",
       "        -1.15090946e-01, -6.66592539e-02,  9.19698505e-01,\n",
       "        -2.68987926e-17, -1.22604883e-16,  2.84655853e-15,\n",
       "        -6.12668916e-19,  4.03894838e-16,  2.94092883e-17,\n",
       "         2.94092883e-17,  2.94092883e-17,  4.03894838e-16,\n",
       "         2.94092883e-17,  2.94092883e-17,  2.94092883e-17,\n",
       "         4.03894838e-16,  0.00000000e+00,  0.00000000e+00,\n",
       "        -8.39597754e-02, -8.39597754e-02, -8.39597754e-02,\n",
       "        -8.39597754e-02, -8.39597754e-02,  4.03894838e-16,\n",
       "         0.00000000e+00],\n",
       "       [ 0.00000000e+00,  0.00000000e+00,  1.24313895e-01,\n",
       "         4.49707042e-02,  2.60464762e-02,  2.99528252e-02,\n",
       "         7.07411870e-17,  4.15486592e-17, -4.75451582e-03,\n",
       "         9.85279112e-01,  9.26149784e-17,  9.71822810e-36,\n",
       "         9.71822810e-36,  9.71822810e-36, -4.75723793e-17,\n",
       "         9.71822810e-36,  9.71822810e-36,  9.71822810e-36,\n",
       "        -4.75723793e-17,  0.00000000e+00,  0.00000000e+00,\n",
       "        -4.50567802e-02, -4.50567802e-02, -4.50567802e-02,\n",
       "        -4.50567802e-02, -4.50567802e-02, -4.75723793e-17,\n",
       "         0.00000000e+00],\n",
       "       [ 0.00000000e+00,  0.00000000e+00,  1.43365291e-01,\n",
       "         5.18625701e-02,  3.00381598e-02,  3.45431659e-02,\n",
       "         1.74464942e-17,  4.79160887e-17, -5.48315652e-03,\n",
       "        -3.42074469e-02, -8.48510799e-01,  2.37406770e-52,\n",
       "         2.37406770e-52,  2.37406770e-52,  2.82836933e-01,\n",
       "         2.37406770e-52,  2.37406770e-52,  2.37406770e-52,\n",
       "         2.82836933e-01,  0.00000000e+00,  0.00000000e+00,\n",
       "        -5.19618374e-02, -5.19618374e-02, -5.19618374e-02,\n",
       "        -5.19618374e-02, -5.19618374e-02,  2.82836933e-01,\n",
       "         0.00000000e+00],\n",
       "       [ 0.00000000e+00,  0.00000000e+00, -1.50854220e-01,\n",
       "        -5.45716992e-02, -3.16072539e-02, -3.63475866e-02,\n",
       "        -1.32854128e-16, -5.04190667e-17,  5.76957849e-03,\n",
       "         3.59943308e-02, -3.72394334e-02, -4.72446413e-01,\n",
       "         2.18766535e-01,  6.34199696e-02,  6.79079811e-01,\n",
       "         6.34199696e-02,  6.34199696e-02,  6.34199696e-02,\n",
       "        -3.20920189e-01,  0.00000000e+00,  0.00000000e+00,\n",
       "         5.46761520e-02,  5.46761520e-02,  5.46761520e-02,\n",
       "         5.46761520e-02,  5.46761520e-02, -3.20920189e-01,\n",
       "         0.00000000e+00],\n",
       "       [ 0.00000000e+00,  0.00000000e+00, -4.29026264e-18,\n",
       "        -1.55200777e-18, -8.98903726e-19, -1.03371780e-18,\n",
       "        -1.87661975e-33, -1.43390777e-33,  1.64085612e-19,\n",
       "         1.02367128e-18, -7.87400524e-18, -1.18350342e-01,\n",
       "        -4.08248290e-01,  8.81649658e-01,  2.62466841e-18,\n",
       "        -1.18350342e-01, -1.18350342e-01, -1.18350342e-01,\n",
       "         2.62466841e-18,  0.00000000e+00,  0.00000000e+00,\n",
       "         1.55497839e-18,  1.55497839e-18,  1.55497839e-18,\n",
       "         1.55497839e-18,  1.55497839e-18,  2.62466841e-18,\n",
       "         0.00000000e+00],\n",
       "       [ 1.00000000e+00,  0.00000000e+00,  0.00000000e+00,\n",
       "         0.00000000e+00,  0.00000000e+00,  0.00000000e+00,\n",
       "         0.00000000e+00,  0.00000000e+00,  0.00000000e+00,\n",
       "         0.00000000e+00,  0.00000000e+00,  0.00000000e+00,\n",
       "         0.00000000e+00,  0.00000000e+00,  0.00000000e+00,\n",
       "         0.00000000e+00,  0.00000000e+00,  0.00000000e+00,\n",
       "         0.00000000e+00,  0.00000000e+00,  0.00000000e+00,\n",
       "         0.00000000e+00,  0.00000000e+00,  0.00000000e+00,\n",
       "         0.00000000e+00,  0.00000000e+00,  0.00000000e+00,\n",
       "         0.00000000e+00],\n",
       "       [ 0.00000000e+00,  0.00000000e+00, -4.29026264e-18,\n",
       "        -1.55200777e-18, -8.98903726e-19, -1.03371780e-18,\n",
       "        -1.87661975e-33, -1.43390777e-33,  1.64085612e-19,\n",
       "         1.02367128e-18, -7.87400524e-18, -1.18350342e-01,\n",
       "        -4.08248290e-01, -1.18350342e-01,  2.62466841e-18,\n",
       "         8.81649658e-01, -1.18350342e-01, -1.18350342e-01,\n",
       "         2.62466841e-18,  0.00000000e+00,  0.00000000e+00,\n",
       "         1.55497839e-18,  1.55497839e-18,  1.55497839e-18,\n",
       "         1.55497839e-18,  1.55497839e-18,  2.62466841e-18,\n",
       "         0.00000000e+00],\n",
       "       [ 0.00000000e+00,  0.00000000e+00, -4.29026264e-18,\n",
       "        -1.55200777e-18, -8.98903726e-19, -1.03371780e-18,\n",
       "        -1.87661975e-33, -1.43390777e-33,  1.64085612e-19,\n",
       "         1.02367128e-18, -7.87400524e-18, -1.18350342e-01,\n",
       "        -4.08248290e-01, -1.18350342e-01,  2.62466841e-18,\n",
       "        -1.18350342e-01,  8.81649658e-01, -1.18350342e-01,\n",
       "         2.62466841e-18,  0.00000000e+00,  0.00000000e+00,\n",
       "         1.55497839e-18,  1.55497839e-18,  1.55497839e-18,\n",
       "         1.55497839e-18,  1.55497839e-18,  2.62466841e-18,\n",
       "         0.00000000e+00],\n",
       "       [ 0.00000000e+00,  0.00000000e+00, -4.29026264e-18,\n",
       "        -1.55200777e-18, -8.98903726e-19, -1.03371780e-18,\n",
       "        -1.87661975e-33, -1.43390777e-33,  1.64085612e-19,\n",
       "         1.02367128e-18, -7.87400524e-18, -1.18350342e-01,\n",
       "        -4.08248290e-01, -1.18350342e-01,  2.62466841e-18,\n",
       "        -1.18350342e-01, -1.18350342e-01,  8.81649658e-01,\n",
       "         2.62466841e-18,  0.00000000e+00,  0.00000000e+00,\n",
       "         1.55497839e-18,  1.55497839e-18,  1.55497839e-18,\n",
       "         1.55497839e-18,  1.55497839e-18,  2.62466841e-18,\n",
       "         0.00000000e+00],\n",
       "       [ 0.00000000e+00,  0.00000000e+00, -1.50854220e-01,\n",
       "        -5.45716992e-02, -3.16072539e-02, -3.63475866e-02,\n",
       "        -1.39793022e-16, -5.04190667e-17,  5.76957849e-03,\n",
       "         3.59943308e-02, -3.72394334e-02, -4.72446413e-01,\n",
       "         2.18766535e-01,  6.34199696e-02, -3.20920189e-01,\n",
       "         6.34199696e-02,  6.34199696e-02,  6.34199696e-02,\n",
       "         6.79079811e-01,  0.00000000e+00,  0.00000000e+00,\n",
       "         5.46761520e-02,  5.46761520e-02,  5.46761520e-02,\n",
       "         5.46761520e-02,  5.46761520e-02, -3.20920189e-01,\n",
       "         0.00000000e+00],\n",
       "       [ 0.00000000e+00,  0.00000000e+00,  0.00000000e+00,\n",
       "         0.00000000e+00,  0.00000000e+00,  0.00000000e+00,\n",
       "         0.00000000e+00,  0.00000000e+00,  0.00000000e+00,\n",
       "         0.00000000e+00,  0.00000000e+00,  0.00000000e+00,\n",
       "         0.00000000e+00,  0.00000000e+00,  0.00000000e+00,\n",
       "         0.00000000e+00,  0.00000000e+00,  0.00000000e+00,\n",
       "         0.00000000e+00,  1.00000000e+00,  0.00000000e+00,\n",
       "         0.00000000e+00,  0.00000000e+00,  0.00000000e+00,\n",
       "         0.00000000e+00,  0.00000000e+00,  0.00000000e+00,\n",
       "         0.00000000e+00],\n",
       "       [ 0.00000000e+00,  0.00000000e+00,  0.00000000e+00,\n",
       "         0.00000000e+00,  0.00000000e+00,  0.00000000e+00,\n",
       "         0.00000000e+00,  0.00000000e+00,  0.00000000e+00,\n",
       "         0.00000000e+00,  0.00000000e+00,  0.00000000e+00,\n",
       "         0.00000000e+00,  0.00000000e+00,  0.00000000e+00,\n",
       "         0.00000000e+00,  0.00000000e+00,  0.00000000e+00,\n",
       "         0.00000000e+00,  0.00000000e+00,  1.00000000e+00,\n",
       "         0.00000000e+00,  0.00000000e+00,  0.00000000e+00,\n",
       "         0.00000000e+00,  0.00000000e+00,  0.00000000e+00,\n",
       "         0.00000000e+00],\n",
       "       [ 0.00000000e+00,  0.00000000e+00, -2.91380199e-01,\n",
       "        -1.05407145e-01, -6.10505157e-02, -7.02066341e-02,\n",
       "        -1.56381129e-16, -9.73861898e-17,  1.11441425e-02,\n",
       "         6.95243081e-02, -7.19292672e-02,  1.46757814e-01,\n",
       "        -6.79562752e-02, -1.97003848e-02,  2.39764224e-02,\n",
       "        -1.97003848e-02, -1.97003848e-02, -1.97003848e-02,\n",
       "         2.39764224e-02,  0.00000000e+00,  0.00000000e+00,\n",
       "         9.05608899e-01, -9.43911014e-02, -9.43911014e-02,\n",
       "        -9.43911014e-02, -9.43911014e-02,  2.39764224e-02,\n",
       "         0.00000000e+00],\n",
       "       [ 0.00000000e+00,  0.00000000e+00, -2.91380199e-01,\n",
       "        -1.05407145e-01, -6.10505157e-02, -7.02066341e-02,\n",
       "        -1.22165756e-16, -9.73861898e-17,  1.11441425e-02,\n",
       "         6.95243081e-02, -7.19292672e-02,  1.46757814e-01,\n",
       "        -6.79562752e-02, -1.97003848e-02,  2.39764224e-02,\n",
       "        -1.97003848e-02, -1.97003848e-02, -1.97003848e-02,\n",
       "         2.39764224e-02,  0.00000000e+00,  0.00000000e+00,\n",
       "        -9.43911014e-02,  9.05608899e-01, -9.43911014e-02,\n",
       "        -9.43911014e-02, -9.43911014e-02,  2.39764224e-02,\n",
       "         0.00000000e+00],\n",
       "       [ 0.00000000e+00,  0.00000000e+00, -2.91380199e-01,\n",
       "        -1.05407145e-01, -6.10505157e-02, -7.02066341e-02,\n",
       "        -1.29104650e-16, -9.73861898e-17,  1.11441425e-02,\n",
       "         6.95243081e-02, -7.19292672e-02,  1.46757814e-01,\n",
       "        -6.79562752e-02, -1.97003848e-02,  2.39764224e-02,\n",
       "        -1.97003848e-02, -1.97003848e-02, -1.97003848e-02,\n",
       "         2.39764224e-02,  0.00000000e+00,  0.00000000e+00,\n",
       "        -9.43911014e-02, -9.43911014e-02,  9.05608899e-01,\n",
       "        -9.43911014e-02, -9.43911014e-02,  2.39764224e-02,\n",
       "         0.00000000e+00],\n",
       "       [ 0.00000000e+00,  0.00000000e+00, -2.91380199e-01,\n",
       "        -1.05407145e-01, -6.10505157e-02, -7.02066341e-02,\n",
       "        -1.56860225e-16, -9.73861898e-17,  1.11441425e-02,\n",
       "         6.95243081e-02, -7.19292672e-02,  1.46757814e-01,\n",
       "        -6.79562752e-02, -1.97003848e-02,  2.39764224e-02,\n",
       "        -1.97003848e-02, -1.97003848e-02, -1.97003848e-02,\n",
       "         2.39764224e-02,  0.00000000e+00,  0.00000000e+00,\n",
       "        -9.43911014e-02, -9.43911014e-02, -9.43911014e-02,\n",
       "         9.05608899e-01, -9.43911014e-02,  2.39764224e-02,\n",
       "         0.00000000e+00],\n",
       "       [ 0.00000000e+00,  0.00000000e+00, -2.91380199e-01,\n",
       "        -1.05407145e-01, -6.10505157e-02, -7.02066341e-02,\n",
       "        -1.42982437e-16, -9.73861898e-17,  1.11441425e-02,\n",
       "         6.95243081e-02, -7.19292672e-02,  1.46757814e-01,\n",
       "        -6.79562752e-02, -1.97003848e-02,  2.39764224e-02,\n",
       "        -1.97003848e-02, -1.97003848e-02, -1.97003848e-02,\n",
       "         2.39764224e-02,  0.00000000e+00,  0.00000000e+00,\n",
       "        -9.43911014e-02, -9.43911014e-02, -9.43911014e-02,\n",
       "        -9.43911014e-02,  9.05608899e-01,  2.39764224e-02,\n",
       "         0.00000000e+00],\n",
       "       [ 0.00000000e+00,  0.00000000e+00, -1.50854220e-01,\n",
       "        -5.45716992e-02, -3.16072539e-02, -3.63475866e-02,\n",
       "        -7.95403752e-18, -5.04190667e-17,  5.76957849e-03,\n",
       "         3.59943308e-02, -3.72394334e-02, -4.72446413e-01,\n",
       "         2.18766535e-01,  6.34199696e-02, -3.20920189e-01,\n",
       "         6.34199696e-02,  6.34199696e-02,  6.34199696e-02,\n",
       "        -3.20920189e-01,  0.00000000e+00,  0.00000000e+00,\n",
       "         5.46761520e-02,  5.46761520e-02,  5.46761520e-02,\n",
       "         5.46761520e-02,  5.46761520e-02,  6.79079811e-01,\n",
       "         0.00000000e+00],\n",
       "       [ 0.00000000e+00,  0.00000000e+00,  0.00000000e+00,\n",
       "         0.00000000e+00,  0.00000000e+00,  0.00000000e+00,\n",
       "         0.00000000e+00,  0.00000000e+00,  0.00000000e+00,\n",
       "         0.00000000e+00,  0.00000000e+00,  0.00000000e+00,\n",
       "         0.00000000e+00,  0.00000000e+00,  0.00000000e+00,\n",
       "         0.00000000e+00,  0.00000000e+00,  0.00000000e+00,\n",
       "         0.00000000e+00,  0.00000000e+00,  0.00000000e+00,\n",
       "         0.00000000e+00,  0.00000000e+00,  0.00000000e+00,\n",
       "         0.00000000e+00,  0.00000000e+00,  0.00000000e+00,\n",
       "         1.00000000e+00]])"
      ]
     },
     "execution_count": 7,
     "metadata": {},
     "output_type": "execute_result"
    }
   ],
   "source": [
    "vh"
   ]
  },
  {
   "cell_type": "code",
   "execution_count": 8,
   "metadata": {},
   "outputs": [
    {
     "data": {
      "text/plain": [
       "5"
      ]
     },
     "execution_count": 8,
     "metadata": {},
     "output_type": "execute_result"
    }
   ],
   "source": [
    "rk = np.linalg.matrix_rank(a)\n",
    "rk"
   ]
  },
  {
   "cell_type": "code",
   "execution_count": 35,
   "metadata": {},
   "outputs": [],
   "source": [
    "approx = np.zeros((15,28))"
   ]
  },
  {
   "cell_type": "markdown",
   "metadata": {},
   "source": [
    "знаем, что норма разности a - approx будет минимальна, если будем брать approx = $\\Sigma u_k \\sigma_k v_k^T$"
   ]
  },
  {
   "cell_type": "markdown",
   "metadata": {},
   "source": [
    "i = 1"
   ]
  },
  {
   "cell_type": "code",
   "execution_count": 36,
   "metadata": {},
   "outputs": [
    {
     "data": {
      "text/plain": [
       "<matplotlib.image.AxesImage at 0x26651defb48>"
      ]
     },
     "execution_count": 36,
     "metadata": {},
     "output_type": "execute_result"
    },
    {
     "data": {
      "image/png": "[encoded data removed]",
      "text/plain": [
       "<Figure size 432x288 with 1 Axes>"
      ]
     },
     "metadata": {
      "needs_background": "light"
     },
     "output_type": "display_data"
    }
   ],
   "source": [
    "approx1 = np.zeros((15,28))\n",
    "for i in range(15):\n",
    "    for  j in range(28):\n",
    "        approx1[i][j] = s[0] * u.T[0][i] * vh[0][j]\n",
    "approx += approx1\n",
    "plt.imshow(approx, cmap='viridis')"
   ]
  },
  {
   "cell_type": "markdown",
   "metadata": {},
   "source": [
    "i = 2"
   ]
  },
  {
   "cell_type": "code",
   "execution_count": 37,
   "metadata": {},
   "outputs": [
    {
     "data": {
      "text/plain": [
       "<matplotlib.image.AxesImage at 0x26651e5a308>"
      ]
     },
     "execution_count": 37,
     "metadata": {},
     "output_type": "execute_result"
    },
    {
     "data": {
      "image/png": "[encoded data removed]",
      "text/plain": [
       "<Figure size 432x288 with 1 Axes>"
      ]
     },
     "metadata": {
      "needs_background": "light"
     },
     "output_type": "display_data"
    }
   ],
   "source": [
    "approx2 = np.zeros((15,28))\n",
    "for i in range(15):\n",
    "    for  j in range(28):\n",
    "        approx2[i][j] = s[1] * u.T[1][i] * vh[1][j]\n",
    "approx += approx2\n",
    "plt.imshow(approx)"
   ]
  },
  {
   "cell_type": "markdown",
   "metadata": {},
   "source": [
    "i = 3"
   ]
  },
  {
   "cell_type": "code",
   "execution_count": 38,
   "metadata": {},
   "outputs": [
    {
     "data": {
      "text/plain": [
       "<matplotlib.image.AxesImage at 0x26651eb5848>"
      ]
     },
     "execution_count": 38,
     "metadata": {},
     "output_type": "execute_result"
    },
    {
     "data": {
      "image/png": "[encoded data removed]",
      "text/plain": [
       "<Figure size 432x288 with 1 Axes>"
      ]
     },
     "metadata": {
      "needs_background": "light"
     },
     "output_type": "display_data"
    }
   ],
   "source": [
    "approx3 = np.zeros((15,28))\n",
    "for i in range(15):\n",
    "    for  j in range(28):\n",
    "        approx3[i][j] = s[2] * u.T[2][i] * vh[2][j]\n",
    "approx += approx3\n",
    "plt.imshow(approx)"
   ]
  },
  {
   "cell_type": "markdown",
   "metadata": {},
   "source": [
    "i = 4"
   ]
  },
  {
   "cell_type": "code",
   "execution_count": 39,
   "metadata": {},
   "outputs": [
    {
     "data": {
      "text/plain": [
       "<matplotlib.image.AxesImage at 0x26652ef9348>"
      ]
     },
     "execution_count": 39,
     "metadata": {},
     "output_type": "execute_result"
    },
    {
     "data": {
      "image/png": "[encoded data removed]",
      "text/plain": [
       "<Figure size 432x288 with 1 Axes>"
      ]
     },
     "metadata": {
      "needs_background": "light"
     },
     "output_type": "display_data"
    }
   ],
   "source": [
    "approx4 = np.zeros((15,28))\n",
    "for i in range(15):\n",
    "    for  j in range(28):\n",
    "        approx4[i][j] = s[3] * u.T[3][i] * vh[3][j]\n",
    "approx += approx4\n",
    "plt.imshow(approx)"
   ]
  },
  {
   "cell_type": "markdown",
   "metadata": {},
   "source": [
    "i = 5"
   ]
  },
  {
   "cell_type": "code",
   "execution_count": 40,
   "metadata": {},
   "outputs": [
    {
     "data": {
      "text/plain": [
       "<matplotlib.image.AxesImage at 0x26652f5ef48>"
      ]
     },
     "execution_count": 40,
     "metadata": {},
     "output_type": "execute_result"
    },
    {
     "data": {
      "image/png": "[encoded data removed]",
      "text/plain": [
       "<Figure size 432x288 with 1 Axes>"
      ]
     },
     "metadata": {
      "needs_background": "light"
     },
     "output_type": "display_data"
    }
   ],
   "source": [
    "approx5 = np.zeros((15,28))\n",
    "for i in range(15):\n",
    "    for  j in range(28):\n",
    "        approx5[i][j] = s[4] * u.T[4][i] * vh[4][j]\n",
    "approx += approx5\n",
    "plt.imshow(approx)"
   ]
  }
 ],
 "metadata": {
  "kernelspec": {
   "display_name": "Python 3",
   "language": "python",
   "name": "python3"
  },
  "language_info": {
   "codemirror_mode": {
    "name": "ipython",
    "version": 3
   },
   "file_extension": ".py",
   "mimetype": "text/x-python",
   "name": "python",
   "nbconvert_exporter": "python",
   "pygments_lexer": "ipython3",
   "version": "3.7.6"
  }
 },
 "nbformat": 4,
 "nbformat_minor": 4
}
